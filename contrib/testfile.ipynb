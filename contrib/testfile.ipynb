{
 "cells": [
  {
   "cell_type": "code",
   "execution_count": 5,
   "id": "59054658-f12d-4612-a2b0-62b39d496b10",
   "metadata": {},
   "outputs": [],
   "source": [
    "from textblob import TextBlob"
   ]
  },
  {
   "cell_type": "code",
   "execution_count": 7,
   "id": "dce603c8-b48f-484f-9c88-510052000591",
   "metadata": {},
   "outputs": [],
   "source": [
    "from spellchecker import SpellChecker\n",
    "\n",
    "spell = SpellChecker()"
   ]
  },
  {
   "cell_type": "code",
   "execution_count": 25,
   "id": "5c05c3b0-9c4c-44e2-a1d5-5d387b908df4",
   "metadata": {},
   "outputs": [
    {
     "data": {
      "text/plain": [
       "TextBlob(\"I have good spelling!\")"
      ]
     },
     "execution_count": 25,
     "metadata": {},
     "output_type": "execute_result"
    }
   ],
   "source": [
    "TextBlob(\"I havv goood speling!\").correct()"
   ]
  },
  {
   "cell_type": "code",
   "execution_count": 8,
   "id": "411b17de-8071-461d-8776-46203608e2ae",
   "metadata": {},
   "outputs": [
    {
     "data": {
      "text/plain": [
       "{'wlak'}"
      ]
     },
     "execution_count": 8,
     "metadata": {},
     "output_type": "execute_result"
    }
   ],
   "source": [
    "# check if there are any mispelt words in text (generally)\n",
    "spell.unknown(['let', 'us', 'wlak','on','the','groun'])"
   ]
  },
  {
   "cell_type": "code",
   "execution_count": 12,
   "id": "f571fbae-802f-4a8b-8f66-88a161885203",
   "metadata": {},
   "outputs": [
    {
     "data": {
      "text/plain": [
       "1"
      ]
     },
     "execution_count": 12,
     "metadata": {},
     "output_type": "execute_result"
    }
   ],
   "source": [
    "misspelt = spell.unknown(['let', 'us', 'wlak','on','the','groun'])\n",
    "len(misspelt)"
   ]
  },
  {
   "cell_type": "code",
   "execution_count": 13,
   "id": "fb8583c4-d2f3-41a8-a8be-51d1b896fa57",
   "metadata": {},
   "outputs": [
    {
     "data": {
      "text/plain": [
       "['I', 'havv', 'goood', 'speling!']"
      ]
     },
     "execution_count": 13,
     "metadata": {},
     "output_type": "execute_result"
    }
   ],
   "source": [
    "\"I havv goood speling!\".split()"
   ]
  },
  {
   "cell_type": "code",
   "execution_count": 15,
   "id": "6186a5af-7bad-4a30-95c4-46f715ea14b5",
   "metadata": {},
   "outputs": [
    {
     "data": {
      "text/plain": [
       "False"
      ]
     },
     "execution_count": 15,
     "metadata": {},
     "output_type": "execute_result"
    }
   ],
   "source": [
    "len(spell.unknown(['let', 'us', 'wlak','on','the','groun'])) == 0"
   ]
  },
  {
   "cell_type": "code",
   "execution_count": 30,
   "id": "581c7e4c-0ef7-4310-88a0-7834f9d605c3",
   "metadata": {},
   "outputs": [
    {
     "data": {
      "text/plain": [
       "{'wlak'}"
      ]
     },
     "execution_count": 30,
     "metadata": {},
     "output_type": "execute_result"
    }
   ],
   "source": [
    "spell.unknown(['wlak'])"
   ]
  },
  {
   "cell_type": "code",
   "execution_count": 32,
   "id": "3fef516b-d328-417b-bebb-392c4cd24151",
   "metadata": {},
   "outputs": [
    {
     "data": {
      "text/plain": [
       "False"
      ]
     },
     "execution_count": 32,
     "metadata": {},
     "output_type": "execute_result"
    }
   ],
   "source": [
    "def _check_spelling(text):\n",
    "    \"\"\"Returns True for correct spelling and False incase of any misspelling.\"\"\"\n",
    "        \n",
    "    if len(spell.unknown(text.split())) > 0: # number of misspelt words\n",
    "        return False\n",
    "    else:\n",
    "        return True\n",
    "        \n",
    "_check_spelling(\"I have goodd spelling\")"
   ]
  },
  {
   "cell_type": "code",
   "execution_count": 26,
   "id": "bdfb690a-494d-4a23-a72d-dfbc5afdc831",
   "metadata": {},
   "outputs": [
    {
     "data": {
      "text/plain": [
       "'I have good spelling'"
      ]
     },
     "execution_count": 26,
     "metadata": {},
     "output_type": "execute_result"
    }
   ],
   "source": [
    "def _correct_spelling(text):\n",
    "    \n",
    "    \"\"\"Returned text with corrected spelling.\"\"\"\n",
    "    if len(spell.unknown(text.split())) > 0:\n",
    "        # number of misspelt words\n",
    "        return str(TextBlob(text).correct())\n",
    "    else:\n",
    "        return text\n",
    "        \n",
    "_correct_spelling(\"I havv goodd speling\")"
   ]
  },
  {
   "cell_type": "code",
   "execution_count": 41,
   "id": "ad2d2edf-ed60-4219-b64f-b62a8c95543f",
   "metadata": {},
   "outputs": [
    {
     "data": {
      "text/plain": [
       "True"
      ]
     },
     "execution_count": 41,
     "metadata": {},
     "output_type": "execute_result"
    }
   ],
   "source": [
    "def check_spelling(text):\n",
    "                \n",
    "    x = len(spell.unknown(text.split())) == 0\n",
    "            \n",
    "    return x\n",
    "\n",
    "check_spelling(\"good\")"
   ]
  },
  {
   "cell_type": "code",
   "execution_count": 48,
   "id": "38e88430-d853-4e2e-894d-2598fcf3696f",
   "metadata": {},
   "outputs": [
    {
     "data": {
      "text/plain": [
       "True"
      ]
     },
     "execution_count": 48,
     "metadata": {},
     "output_type": "execute_result"
    }
   ],
   "source": [
    "def check_spelling(text):\n",
    "    text = [text]\n",
    "            \n",
    "    x = len(spell.unknown(text)) == 0\n",
    "            \n",
    "    if not x:\n",
    "        raise Exception(f\"{len(spell.unknown(text))} errors detected.\")\n",
    "                \n",
    "    return x\n",
    "\n",
    "check_spelling(\"good\")"
   ]
  },
  {
   "cell_type": "code",
   "execution_count": null,
   "id": "e058521e-3531-4841-a67a-188ac33ab1be",
   "metadata": {},
   "outputs": [],
   "source": []
  },
  {
   "cell_type": "code",
   "execution_count": null,
   "id": "2cade8f7-becb-4cff-b609-ba734cc5f6d4",
   "metadata": {},
   "outputs": [],
   "source": []
  },
  {
   "cell_type": "code",
   "execution_count": null,
   "id": "8637478b-3e0b-458f-9c28-4c54648a0c0a",
   "metadata": {},
   "outputs": [],
   "source": []
  },
  {
   "cell_type": "code",
   "execution_count": null,
   "id": "a2a06da6-56b3-48ff-8711-052d4ffeefea",
   "metadata": {},
   "outputs": [],
   "source": []
  }
 ],
 "metadata": {
  "kernelspec": {
   "display_name": "Python 3",
   "language": "python",
   "name": "python3"
  },
  "language_info": {
   "codemirror_mode": {
    "name": "ipython",
    "version": 3
   },
   "file_extension": ".py",
   "mimetype": "text/x-python",
   "name": "python",
   "nbconvert_exporter": "python",
   "pygments_lexer": "ipython3",
   "version": "3.9.10"
  }
 },
 "nbformat": 4,
 "nbformat_minor": 5
}
